Um dia no papel de um analista de dados financeiros
Pedido do Cliente

Um cliente questionou-nos se tem sido mais vantajoso investir no MSCI World ou no S&P 500, 
durante a última década (vamos imaginar inicialmente um período de 2011-12-30 a 2021-12-30).
Pediu um gráfico onde pudesse ver isso mas também a taxa de crescimento de cada investimento.
Pediu também que analisássemos o Lyxor Euro Government Bond 15+Y (DR) que é de obrigações governamentais europeis de muito longo prazo.
No fim pediu-nos uma opinião sobre a combinação de dois fundos que neste período analisado trouxeram maior diversificação e quais os dois ETFs 
que deveria usar na criação da sua carteira diversificada.


O que vamos precisar de fazer
1.Faça um gráfico de linhas comparativo entre:
•CSPX.AS (S&P 500 UCITS ETF)
•IWDA.AS (MSCI World UCITS ETF)
•LYXF.F (Lyxor Euro Government Bond 15+Y) desde 2011-12-30 até 2021-12-31

2.Faça um gráfico de dispersão para cada 3 dos pares. Qual é a conclusão a que chegamos?

3.Faça um map de calor das correlações. Confirmou as suas suspeitas?

4.Qual é o g (crescimento) de cada ETF nestes 10 anos? O que é que isto representa?

5.Com a fórmula compute_FV_lump_sum() confirme os dados do g.

6.Actualize a análise para o dia de hoje.

7.Vamos para além do que o cliente pediu e vamos fazer um gráfico de barras com os retornos anuais. É um informação útil e o cliente vai ficar satisfeito.







































































