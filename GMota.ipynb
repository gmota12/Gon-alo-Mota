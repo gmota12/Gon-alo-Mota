Um dia no papel de um analista de dados financeiros
Pedido do Cliente

Um cliente questionou-nos se tem sido mais vantajoso investir no MSCI World ou no S&P 500, 
durante a última década (vamos imaginar inicialmente um período de 2011-12-30 a 2021-12-30).
Pediu um gráfico onde pudesse ver isso mas também a taxa de crescimento de cada investimento.
Pediu também que analisássemos o Lyxor Euro Government Bond 15+Y (DR) que é de obrigações governamentais europeis de muito longo prazo.
No fim pediu-nos uma opinião sobre a combinação de dois fundos que neste período analisado trouxeram maior diversificação e quais os dois ETFs 
que deveria usar na criação da sua carteira diversificada.
